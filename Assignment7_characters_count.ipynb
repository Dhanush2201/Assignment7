{
 "cells": [
  {
   "cell_type": "code",
   "execution_count": 2,
   "metadata": {},
   "outputs": [
    {
     "name": "stdout",
     "output_type": "stream",
     "text": [
      "Count of all characters in hellomawa is :\n",
      " Counter({'l': 2, 'a': 2, 'h': 1, 'e': 1, 'o': 1, 'm': 1, 'w': 1})\n"
     ]
    }
   ],
   "source": [
    "from collections import Counter \n",
    "test_str = \"hellomawa\"\n",
    "res = Counter(test_str) \n",
    "print (\"Count of all characters in hellomawa is :\\n \"+  str(res)) "
   ]
  },
  {
   "cell_type": "code",
   "execution_count": null,
   "metadata": {},
   "outputs": [],
   "source": []
  }
 ],
 "metadata": {
  "kernelspec": {
   "display_name": "Python 3",
   "language": "python",
   "name": "python3"
  },
  "language_info": {
   "codemirror_mode": {
    "name": "ipython",
    "version": 3
   },
   "file_extension": ".py",
   "mimetype": "text/x-python",
   "name": "python",
   "nbconvert_exporter": "python",
   "pygments_lexer": "ipython3",
   "version": "3.7.6"
  }
 },
 "nbformat": 4,
 "nbformat_minor": 4
}
